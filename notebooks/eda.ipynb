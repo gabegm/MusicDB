{
 "cells": [
  {
   "cell_type": "code",
   "execution_count": 1,
   "id": "42cd6abd-5bee-4a73-9864-38b3901adc42",
   "metadata": {},
   "outputs": [],
   "source": [
    "%load_ext autoreload\n",
    "%autoreload 2"
   ]
  },
  {
   "cell_type": "code",
   "execution_count": 2,
   "id": "b1cd1887-2243-4f47-b08d-5d0388c4d050",
   "metadata": {},
   "outputs": [],
   "source": [
    "import pandas as pd\n",
    "from sqlalchemy import create_engine\n",
    "from matplotlib import pyplot as plt\n",
    "import seaborn as sns\n",
    "\n",
    "sns.set(style=\"darkgrid\")\n",
    "sns.set(color_codes=True)\n",
    "sns.set(rc={'figure.figsize':(11.7, 8.27)})"
   ]
  },
  {
   "cell_type": "code",
   "execution_count": 6,
   "id": "04b4c5a1-a14d-45d8-b3b2-f137d55d15cb",
   "metadata": {},
   "outputs": [
    {
     "data": {
      "text/plain": [
       "'/Users/g9385/code/music-streaming/notebooks'"
      ]
     },
     "execution_count": 6,
     "metadata": {},
     "output_type": "execute_result"
    }
   ],
   "source": [
    "pwd()"
   ]
  },
  {
   "cell_type": "code",
   "execution_count": 7,
   "id": "b7ce520b-f39e-40a8-8667-540fabcde48d",
   "metadata": {},
   "outputs": [],
   "source": [
    "e = create_engine('sqlite:///../data/processed/spotify.db', echo=False)"
   ]
  },
  {
   "cell_type": "code",
   "execution_count": 29,
   "id": "bd4d8f84-334c-4641-a7df-ef352cf057dc",
   "metadata": {},
   "outputs": [],
   "source": [
    "sql_top_artists = \"\"\"\n",
    "SELECT\n",
    "    ROW_NUMBER() OVER () as rnk\n",
    "    , artist_name\n",
    "    , n_listens\n",
    "FROM (\n",
    "    SELECT\n",
    "        da.artist_name\n",
    "        , count(*) as n_listens\n",
    "    FROM fact_listen AS fl\n",
    "    INNER JOIN dim_artist AS da ON (fl.artist_id = da.id)\n",
    "    GROUP BY\n",
    "        fl.artist_id\n",
    "    ORDER BY\n",
    "        n_listens DESC\n",
    "    LIMIT 15\n",
    ");\n",
    "\"\"\""
   ]
  },
  {
   "cell_type": "code",
   "execution_count": 30,
   "id": "4994e16d-2da4-4189-a375-beec3a7e0c67",
   "metadata": {},
   "outputs": [
    {
     "data": {
      "text/html": [
       "<div>\n",
       "<style scoped>\n",
       "    .dataframe tbody tr th:only-of-type {\n",
       "        vertical-align: middle;\n",
       "    }\n",
       "\n",
       "    .dataframe tbody tr th {\n",
       "        vertical-align: top;\n",
       "    }\n",
       "\n",
       "    .dataframe thead th {\n",
       "        text-align: right;\n",
       "    }\n",
       "</style>\n",
       "<table border=\"1\" class=\"dataframe\">\n",
       "  <thead>\n",
       "    <tr style=\"text-align: right;\">\n",
       "      <th></th>\n",
       "      <th>rnk</th>\n",
       "      <th>artist_name</th>\n",
       "      <th>n_listens</th>\n",
       "    </tr>\n",
       "  </thead>\n",
       "  <tbody>\n",
       "    <tr>\n",
       "      <th>0</th>\n",
       "      <td>1</td>\n",
       "      <td>Vision Éternel</td>\n",
       "      <td>93766</td>\n",
       "    </tr>\n",
       "    <tr>\n",
       "      <th>1</th>\n",
       "      <td>2</td>\n",
       "      <td>Two Steps from Hell</td>\n",
       "      <td>3836</td>\n",
       "    </tr>\n",
       "    <tr>\n",
       "      <th>2</th>\n",
       "      <td>3</td>\n",
       "      <td>Johann Sebastian Bach</td>\n",
       "      <td>3078</td>\n",
       "    </tr>\n",
       "    <tr>\n",
       "      <th>3</th>\n",
       "      <td>4</td>\n",
       "      <td>Radiohead</td>\n",
       "      <td>2234</td>\n",
       "    </tr>\n",
       "    <tr>\n",
       "      <th>4</th>\n",
       "      <td>5</td>\n",
       "      <td>BrunuhVille</td>\n",
       "      <td>2018</td>\n",
       "    </tr>\n",
       "  </tbody>\n",
       "</table>\n",
       "</div>"
      ],
      "text/plain": [
       "   rnk            artist_name  n_listens\n",
       "0    1         Vision Éternel      93766\n",
       "1    2    Two Steps from Hell       3836\n",
       "2    3  Johann Sebastian Bach       3078\n",
       "3    4              Radiohead       2234\n",
       "4    5            BrunuhVille       2018"
      ]
     },
     "execution_count": 30,
     "metadata": {},
     "output_type": "execute_result"
    }
   ],
   "source": [
    "df_top_artists = pd.read_sql_query(sql_top_artists, e)\n",
    "df_top_artists.head()"
   ]
  },
  {
   "cell_type": "code",
   "execution_count": 31,
   "id": "7b130a62-4346-46ac-976f-8a98c8f8da1b",
   "metadata": {},
   "outputs": [
    {
     "data": {
      "image/png": "[encoded data removed]",
      "text/plain": [
       "<Figure size 1152x576 with 1 Axes>"
      ]
     },
     "metadata": {
      "needs_background": "light"
     },
     "output_type": "display_data"
    }
   ],
   "source": [
    "fig, ax = plt.subplots(figsize=(16,8))\n",
    "ax.set_title(\"Top artists\", fontsize=20, fontweight=3)\n",
    "#ax.set(xlabel=\"feature_1mean\", ylabel=\"feature_2mean\")\n",
    "sns.barplot(x=\"n_listens\", y=\"artist_name\", data=df_top_artists, ax=ax)\n",
    "#ax.legend()\n",
    "fig.tight_layout()"
   ]
  },
  {
   "cell_type": "code",
   "execution_count": 32,
   "id": "0693b7a0-19e8-494d-bd76-718d14703c21",
   "metadata": {},
   "outputs": [],
   "source": [
    "sql_top_tracks = \"\"\"\n",
    "SELECT\n",
    "    ROW_NUMBER() OVER () as rnk\n",
    "    , track_name\n",
    "    , n_listens\n",
    "FROM (\n",
    "    SELECT\n",
    "        dt.track_name\n",
    "        , count(*) as n_listens\n",
    "    FROM fact_listen AS fl\n",
    "    INNER JOIN dim_track AS dt ON (fl.track_id = dt.id)\n",
    "    GROUP BY\n",
    "        fl.track_id\n",
    "    ORDER BY\n",
    "        n_listens DESC\n",
    "    LIMIT 15\n",
    ");\n",
    "\"\"\""
   ]
  },
  {
   "cell_type": "code",
   "execution_count": 33,
   "id": "00ec7c59-6076-4910-a4a0-1e105cdd0044",
   "metadata": {},
   "outputs": [
    {
     "data": {
      "text/html": [
       "<div>\n",
       "<style scoped>\n",
       "    .dataframe tbody tr th:only-of-type {\n",
       "        vertical-align: middle;\n",
       "    }\n",
       "\n",
       "    .dataframe tbody tr th {\n",
       "        vertical-align: top;\n",
       "    }\n",
       "\n",
       "    .dataframe thead th {\n",
       "        text-align: right;\n",
       "    }\n",
       "</style>\n",
       "<table border=\"1\" class=\"dataframe\">\n",
       "  <thead>\n",
       "    <tr style=\"text-align: right;\">\n",
       "      <th></th>\n",
       "      <th>rnk</th>\n",
       "      <th>track_name</th>\n",
       "      <th>n_listens</th>\n",
       "    </tr>\n",
       "  </thead>\n",
       "  <tbody>\n",
       "    <tr>\n",
       "      <th>0</th>\n",
       "      <td>1</td>\n",
       "      <td>Sometimes in Reminiscent Neglection</td>\n",
       "      <td>2316</td>\n",
       "    </tr>\n",
       "    <tr>\n",
       "      <th>1</th>\n",
       "      <td>2</td>\n",
       "      <td>Sometimes in Underlying Sadness</td>\n",
       "      <td>2310</td>\n",
       "    </tr>\n",
       "    <tr>\n",
       "      <th>2</th>\n",
       "      <td>3</td>\n",
       "      <td>Season In Seclusion</td>\n",
       "      <td>2304</td>\n",
       "    </tr>\n",
       "    <tr>\n",
       "      <th>3</th>\n",
       "      <td>4</td>\n",
       "      <td>Sometimes in Absolute Togetherness</td>\n",
       "      <td>2296</td>\n",
       "    </tr>\n",
       "    <tr>\n",
       "      <th>4</th>\n",
       "      <td>5</td>\n",
       "      <td>Sometimes in Longing Narcosis</td>\n",
       "      <td>2294</td>\n",
       "    </tr>\n",
       "  </tbody>\n",
       "</table>\n",
       "</div>"
      ],
      "text/plain": [
       "   rnk                           track_name  n_listens\n",
       "0    1  Sometimes in Reminiscent Neglection       2316\n",
       "1    2      Sometimes in Underlying Sadness       2310\n",
       "2    3                  Season In Seclusion       2304\n",
       "3    4   Sometimes in Absolute Togetherness       2296\n",
       "4    5        Sometimes in Longing Narcosis       2294"
      ]
     },
     "execution_count": 33,
     "metadata": {},
     "output_type": "execute_result"
    }
   ],
   "source": [
    "df_top_tracks = pd.read_sql_query(sql_top_tracks, e)\n",
    "df_top_tracks.head()"
   ]
  },
  {
   "cell_type": "code",
   "execution_count": 34,
   "id": "5c8a4a63-b0f3-4979-895e-5ccf49e0a7d0",
   "metadata": {},
   "outputs": [
    {
     "data": {
      "image/png": "[encoded data removed]",
      "text/plain": [
       "<Figure size 1152x576 with 1 Axes>"
      ]
     },
     "metadata": {
      "needs_background": "light"
     },
     "output_type": "display_data"
    }
   ],
   "source": [
    "fig, ax = plt.subplots(figsize=(16,8))\n",
    "ax.set_title(\"Top tracks\", fontsize=20, fontweight=3)\n",
    "#ax.set(xlabel=\"feature_1mean\", ylabel=\"feature_2mean\")\n",
    "sns.barplot(x=\"n_listens\", y=\"track_name\", data=df_top_tracks, ax=ax)\n",
    "#ax.legend()\n",
    "fig.tight_layout()"
   ]
  },
  {
   "cell_type": "code",
   "execution_count": 35,
   "id": "bb8797e0-2b96-4950-a6d0-5d3754973161",
   "metadata": {},
   "outputs": [],
   "source": [
    "sql_artist_breadth = \"\"\"\n",
    "SELECT\n",
    "    ROW_NUMBER() OVER () as rnk\n",
    "    , artist_name\n",
    "    , breadth\n",
    "FROM (\n",
    "    SELECT\n",
    "        da.artist_name\n",
    "        , count(distinct(fl.user_id)) AS breadth\n",
    "    FROM fact_listen as fl\n",
    "    LEFT JOIN dim_artist AS da ON (fl.artist_id = da.id)\n",
    "    GROUP BY\n",
    "        da.artist_name\n",
    "    ORDER BY\n",
    "        breadth DESC\n",
    "    LIMIT 15\n",
    ");\n",
    "\"\"\""
   ]
  },
  {
   "cell_type": "code",
   "execution_count": 36,
   "id": "60ba9ce1-392b-4291-9e42-d77f5fba60f2",
   "metadata": {},
   "outputs": [
    {
     "data": {
      "text/html": [
       "<div>\n",
       "<style scoped>\n",
       "    .dataframe tbody tr th:only-of-type {\n",
       "        vertical-align: middle;\n",
       "    }\n",
       "\n",
       "    .dataframe tbody tr th {\n",
       "        vertical-align: top;\n",
       "    }\n",
       "\n",
       "    .dataframe thead th {\n",
       "        text-align: right;\n",
       "    }\n",
       "</style>\n",
       "<table border=\"1\" class=\"dataframe\">\n",
       "  <thead>\n",
       "    <tr style=\"text-align: right;\">\n",
       "      <th></th>\n",
       "      <th>rnk</th>\n",
       "      <th>artist_name</th>\n",
       "      <th>breadth</th>\n",
       "    </tr>\n",
       "  </thead>\n",
       "  <tbody>\n",
       "    <tr>\n",
       "      <th>0</th>\n",
       "      <td>1</td>\n",
       "      <td>Queen</td>\n",
       "      <td>42</td>\n",
       "    </tr>\n",
       "    <tr>\n",
       "      <th>1</th>\n",
       "      <td>2</td>\n",
       "      <td>Nirvana</td>\n",
       "      <td>42</td>\n",
       "    </tr>\n",
       "    <tr>\n",
       "      <th>2</th>\n",
       "      <td>3</td>\n",
       "      <td>Daft Punk</td>\n",
       "      <td>40</td>\n",
       "    </tr>\n",
       "    <tr>\n",
       "      <th>3</th>\n",
       "      <td>4</td>\n",
       "      <td>Radiohead</td>\n",
       "      <td>38</td>\n",
       "    </tr>\n",
       "    <tr>\n",
       "      <th>4</th>\n",
       "      <td>5</td>\n",
       "      <td>Pink Floyd</td>\n",
       "      <td>38</td>\n",
       "    </tr>\n",
       "  </tbody>\n",
       "</table>\n",
       "</div>"
      ],
      "text/plain": [
       "   rnk artist_name  breadth\n",
       "0    1       Queen       42\n",
       "1    2     Nirvana       42\n",
       "2    3   Daft Punk       40\n",
       "3    4   Radiohead       38\n",
       "4    5  Pink Floyd       38"
      ]
     },
     "execution_count": 36,
     "metadata": {},
     "output_type": "execute_result"
    }
   ],
   "source": [
    "df_artist_breadth = pd.read_sql_query(sql_artist_breadth, e)\n",
    "df_artist_breadth.head()"
   ]
  },
  {
   "cell_type": "code",
   "execution_count": 37,
   "id": "bf03ebcc-949f-4332-b8b9-2cc1df920890",
   "metadata": {},
   "outputs": [
    {
     "data": {
      "image/png": "[encoded data removed]",
      "text/plain": [
       "<Figure size 1152x576 with 1 Axes>"
      ]
     },
     "metadata": {
      "needs_background": "light"
     },
     "output_type": "display_data"
    }
   ],
   "source": [
    "fig, ax = plt.subplots(figsize=(16,8))\n",
    "ax.set_title(\"Artist breadth\", fontsize=20, fontweight=3)\n",
    "#ax.set(xlabel=\"feature_1mean\", ylabel=\"feature_2mean\")\n",
    "sns.barplot(x=\"breadth\", y=\"artist_name\", data=df_artist_breadth, ax=ax)\n",
    "#ax.legend()\n",
    "fig.tight_layout()"
   ]
  },
  {
   "cell_type": "code",
   "execution_count": 38,
   "id": "3fd33e69-eaf2-4cf2-bf13-d4a827077e3e",
   "metadata": {},
   "outputs": [],
   "source": [
    "sql_hour_listens = \"\"\"\n",
    "SELECT\n",
    "    strftime('%H', listened_at) AS listened_at\n",
    "    , count(*) AS listens\n",
    "FROM fact_listen\n",
    "GROUP BY\n",
    "    strftime('%H', listened_at);\n",
    "\"\"\""
   ]
  },
  {
   "cell_type": "code",
   "execution_count": 39,
   "id": "0d0cd260-fb6e-4da1-b96b-e3438492ea96",
   "metadata": {},
   "outputs": [
    {
     "data": {
      "text/html": [
       "<div>\n",
       "<style scoped>\n",
       "    .dataframe tbody tr th:only-of-type {\n",
       "        vertical-align: middle;\n",
       "    }\n",
       "\n",
       "    .dataframe tbody tr th {\n",
       "        vertical-align: top;\n",
       "    }\n",
       "\n",
       "    .dataframe thead th {\n",
       "        text-align: right;\n",
       "    }\n",
       "</style>\n",
       "<table border=\"1\" class=\"dataframe\">\n",
       "  <thead>\n",
       "    <tr style=\"text-align: right;\">\n",
       "      <th></th>\n",
       "      <th>listened_at</th>\n",
       "      <th>listens</th>\n",
       "    </tr>\n",
       "  </thead>\n",
       "  <tbody>\n",
       "    <tr>\n",
       "      <th>0</th>\n",
       "      <td>00</td>\n",
       "      <td>23520</td>\n",
       "    </tr>\n",
       "    <tr>\n",
       "      <th>1</th>\n",
       "      <td>01</td>\n",
       "      <td>21140</td>\n",
       "    </tr>\n",
       "    <tr>\n",
       "      <th>2</th>\n",
       "      <td>02</td>\n",
       "      <td>19396</td>\n",
       "    </tr>\n",
       "    <tr>\n",
       "      <th>3</th>\n",
       "      <td>03</td>\n",
       "      <td>18664</td>\n",
       "    </tr>\n",
       "    <tr>\n",
       "      <th>4</th>\n",
       "      <td>04</td>\n",
       "      <td>18388</td>\n",
       "    </tr>\n",
       "  </tbody>\n",
       "</table>\n",
       "</div>"
      ],
      "text/plain": [
       "  listened_at  listens\n",
       "0          00    23520\n",
       "1          01    21140\n",
       "2          02    19396\n",
       "3          03    18664\n",
       "4          04    18388"
      ]
     },
     "execution_count": 39,
     "metadata": {},
     "output_type": "execute_result"
    }
   ],
   "source": [
    "df_hour_listens = pd.read_sql_query(sql_hour_listens, e)\n",
    "df_hour_listens.head()"
   ]
  },
  {
   "cell_type": "code",
   "execution_count": 40,
   "id": "122ca132-587d-4066-9d70-b7ed129c6719",
   "metadata": {},
   "outputs": [
    {
     "data": {
      "image/png": "[encoded data removed]",
      "text/plain": [
       "<Figure size 1152x576 with 1 Axes>"
      ]
     },
     "metadata": {
      "needs_background": "light"
     },
     "output_type": "display_data"
    }
   ],
   "source": [
    "fig, ax = plt.subplots(figsize=(16,8))\n",
    "ax.set_title(\"Listenership by hour\", fontsize=20, fontweight=3)\n",
    "#ax.set(xlabel=\"feature_1mean\", ylabel=\"feature_2mean\")\n",
    "sns.barplot(x=\"listened_at\", y=\"listens\", data=df_hour_listens, ax=ax)\n",
    "#ax.legend()\n",
    "fig.tight_layout()"
   ]
  },
  {
   "cell_type": "code",
   "execution_count": 41,
   "id": "710155e1-5f2a-41c4-b80a-b3e2e28c04dc",
   "metadata": {},
   "outputs": [],
   "source": [
    "sql_month_listens = \"\"\"\n",
    "SELECT\n",
    "    dd.month\n",
    "    , count(*) AS listens\n",
    "FROM fact_listen as fl\n",
    "INNER JOIN dim_date AS dd ON (date(fl.listened_at) = dd.d)\n",
    "GROUP BY\n",
    "    dd.month;\n",
    "\"\"\""
   ]
  },
  {
   "cell_type": "code",
   "execution_count": 42,
   "id": "500d5d8a-2a38-4a62-aaf1-48380e585aae",
   "metadata": {},
   "outputs": [
    {
     "data": {
      "text/html": [
       "<div>\n",
       "<style scoped>\n",
       "    .dataframe tbody tr th:only-of-type {\n",
       "        vertical-align: middle;\n",
       "    }\n",
       "\n",
       "    .dataframe tbody tr th {\n",
       "        vertical-align: top;\n",
       "    }\n",
       "\n",
       "    .dataframe thead th {\n",
       "        text-align: right;\n",
       "    }\n",
       "</style>\n",
       "<table border=\"1\" class=\"dataframe\">\n",
       "  <thead>\n",
       "    <tr style=\"text-align: right;\">\n",
       "      <th></th>\n",
       "      <th>month</th>\n",
       "      <th>listens</th>\n",
       "    </tr>\n",
       "  </thead>\n",
       "  <tbody>\n",
       "    <tr>\n",
       "      <th>0</th>\n",
       "      <td>1</td>\n",
       "      <td>218228</td>\n",
       "    </tr>\n",
       "    <tr>\n",
       "      <th>1</th>\n",
       "      <td>2</td>\n",
       "      <td>182100</td>\n",
       "    </tr>\n",
       "    <tr>\n",
       "      <th>2</th>\n",
       "      <td>3</td>\n",
       "      <td>194326</td>\n",
       "    </tr>\n",
       "    <tr>\n",
       "      <th>3</th>\n",
       "      <td>4</td>\n",
       "      <td>71414</td>\n",
       "    </tr>\n",
       "  </tbody>\n",
       "</table>\n",
       "</div>"
      ],
      "text/plain": [
       "   month  listens\n",
       "0      1   218228\n",
       "1      2   182100\n",
       "2      3   194326\n",
       "3      4    71414"
      ]
     },
     "execution_count": 42,
     "metadata": {},
     "output_type": "execute_result"
    }
   ],
   "source": [
    "df_month_listens = pd.read_sql_query(sql_month_listens, e)\n",
    "df_month_listens.head()"
   ]
  },
  {
   "cell_type": "code",
   "execution_count": 44,
   "id": "10903075-899a-4b80-936c-a51718b06667",
   "metadata": {},
   "outputs": [
    {
     "data": {
      "image/png": "[encoded data removed]",
      "text/plain": [
       "<Figure size 1152x576 with 1 Axes>"
      ]
     },
     "metadata": {
      "needs_background": "light"
     },
     "output_type": "display_data"
    }
   ],
   "source": [
    "fig, ax = plt.subplots(figsize=(16,8))\n",
    "ax.set_title(\"Listenership by month\", fontsize=20, fontweight=3)\n",
    "#ax.set(xlabel=\"feature_1mean\", ylabel=\"feature_2mean\")\n",
    "sns.barplot(x=\"month\", y=\"listens\", data=df_month_listens, ax=ax)\n",
    "#ax.legend()\n",
    "fig.tight_layout()"
   ]
  },
  {
   "cell_type": "code",
   "execution_count": null,
   "id": "01ba15f4-b678-4040-8915-563c97364b7e",
   "metadata": {},
   "outputs": [],
   "source": []
  }
 ],
 "metadata": {
  "kernelspec": {
   "display_name": "music",
   "language": "python",
   "name": "music"
  },
  "language_info": {
   "codemirror_mode": {
    "name": "ipython",
    "version": 3
   },
   "file_extension": ".py",
   "mimetype": "text/x-python",
   "name": "python",
   "nbconvert_exporter": "python",
   "pygments_lexer": "ipython3",
   "version": "3.10.2"
  }
 },
 "nbformat": 4,
 "nbformat_minor": 5
}
