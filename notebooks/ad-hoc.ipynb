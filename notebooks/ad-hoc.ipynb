{
 "cells": [
  {
   "cell_type": "code",
   "execution_count": 1,
   "id": "a0fb891b-9a28-4c1d-89b4-3e587607a87e",
   "metadata": {},
   "outputs": [],
   "source": [
    "%load_ext autoreload\n",
    "%autoreload 2"
   ]
  },
  {
   "cell_type": "code",
   "execution_count": 2,
   "id": "222b885b-04a3-4e38-a019-7ab7183806da",
   "metadata": {},
   "outputs": [],
   "source": [
    "import pandas as pd\n",
    "from sqlalchemy import create_engine\n",
    "from matplotlib import pyplot as plt\n",
    "import seaborn as sns\n",
    "\n",
    "sns.set(style=\"darkgrid\")\n",
    "sns.set(color_codes=True)\n",
    "sns.set(rc={'figure.figsize':(11.7, 8.27)})"
   ]
  },
  {
   "cell_type": "code",
   "execution_count": 3,
   "id": "9e7ca642-f389-4ca8-a6ed-0dc432f598ab",
   "metadata": {},
   "outputs": [
    {
     "data": {
      "text/plain": [
       "'/Users/g9385/code/music-streaming/notebooks'"
      ]
     },
     "execution_count": 3,
     "metadata": {},
     "output_type": "execute_result"
    }
   ],
   "source": [
    "pwd()"
   ]
  },
  {
   "cell_type": "code",
   "execution_count": 4,
   "id": "72aabe83-fdfb-4f7c-97fc-63c6787978ad",
   "metadata": {},
   "outputs": [],
   "source": [
    "e = create_engine('sqlite:///../data/processed/music.db', echo=False)"
   ]
  },
  {
   "cell_type": "code",
   "execution_count": 7,
   "id": "05e97ea7-ab26-48a0-9e23-67db713f6e1c",
   "metadata": {},
   "outputs": [],
   "source": [
    "sql_top_users = \"\"\"\n",
    "SELECT\n",
    "    ROW_NUMBER() OVER () as rnk\n",
    "    , user_name\n",
    "    , n_listens\n",
    "FROM (\n",
    "    SELECT\n",
    "        du.user_name\n",
    "        , sum(ku.listens) as n_listens\n",
    "    FROM kpi_user AS ku\n",
    "    INNER JOIN dim_user AS du ON (ku.user_id = du.id)\n",
    "    GROUP BY\n",
    "        ku.user_id\n",
    "    ORDER BY\n",
    "        n_listens DESC\n",
    "    LIMIT 10\n",
    ");\n",
    "\"\"\""
   ]
  },
  {
   "cell_type": "code",
   "execution_count": 8,
   "id": "e5494218-bdf3-4498-aad9-b103d923dc2e",
   "metadata": {},
   "outputs": [
    {
     "data": {
      "text/html": [
       "<div>\n",
       "<style scoped>\n",
       "    .dataframe tbody tr th:only-of-type {\n",
       "        vertical-align: middle;\n",
       "    }\n",
       "\n",
       "    .dataframe tbody tr th {\n",
       "        vertical-align: top;\n",
       "    }\n",
       "\n",
       "    .dataframe thead th {\n",
       "        text-align: right;\n",
       "    }\n",
       "</style>\n",
       "<table border=\"1\" class=\"dataframe\">\n",
       "  <thead>\n",
       "    <tr style=\"text-align: right;\">\n",
       "      <th></th>\n",
       "      <th>rnk</th>\n",
       "      <th>user_name</th>\n",
       "      <th>n_listens</th>\n",
       "    </tr>\n",
       "  </thead>\n",
       "  <tbody>\n",
       "    <tr>\n",
       "      <th>0</th>\n",
       "      <td>1</td>\n",
       "      <td>hds</td>\n",
       "      <td>46880</td>\n",
       "    </tr>\n",
       "    <tr>\n",
       "      <th>1</th>\n",
       "      <td>2</td>\n",
       "      <td>Groschi</td>\n",
       "      <td>14959</td>\n",
       "    </tr>\n",
       "    <tr>\n",
       "      <th>2</th>\n",
       "      <td>3</td>\n",
       "      <td>Silent Singer</td>\n",
       "      <td>12888</td>\n",
       "    </tr>\n",
       "    <tr>\n",
       "      <th>3</th>\n",
       "      <td>4</td>\n",
       "      <td>6d6f7274686f6e</td>\n",
       "      <td>11544</td>\n",
       "    </tr>\n",
       "    <tr>\n",
       "      <th>4</th>\n",
       "      <td>5</td>\n",
       "      <td>phdnk</td>\n",
       "      <td>11533</td>\n",
       "    </tr>\n",
       "  </tbody>\n",
       "</table>\n",
       "</div>"
      ],
      "text/plain": [
       "   rnk       user_name  n_listens\n",
       "0    1             hds      46880\n",
       "1    2         Groschi      14959\n",
       "2    3   Silent Singer      12888\n",
       "3    4  6d6f7274686f6e      11544\n",
       "4    5           phdnk      11533"
      ]
     },
     "execution_count": 8,
     "metadata": {},
     "output_type": "execute_result"
    }
   ],
   "source": [
    "df_top_users = pd.read_sql_query(sql_top_users, e)\n",
    "df_top_users.head()"
   ]
  },
  {
   "cell_type": "code",
   "execution_count": 9,
   "id": "d953e98e-7a84-429e-a95f-12b70c29f73d",
   "metadata": {},
   "outputs": [],
   "source": [
    "sql_active_count = \"\"\"\n",
    "SELECT\n",
    "    users\n",
    "FROM kpi_listen\n",
    "WHERE listened_at = DATE('2019-03-01');\n",
    "\"\"\""
   ]
  },
  {
   "cell_type": "code",
   "execution_count": 10,
   "id": "b3ca6f58-70c3-4101-a0f2-19a8d88ec746",
   "metadata": {},
   "outputs": [
    {
     "data": {
      "text/html": [
       "<div>\n",
       "<style scoped>\n",
       "    .dataframe tbody tr th:only-of-type {\n",
       "        vertical-align: middle;\n",
       "    }\n",
       "\n",
       "    .dataframe tbody tr th {\n",
       "        vertical-align: top;\n",
       "    }\n",
       "\n",
       "    .dataframe thead th {\n",
       "        text-align: right;\n",
       "    }\n",
       "</style>\n",
       "<table border=\"1\" class=\"dataframe\">\n",
       "  <thead>\n",
       "    <tr style=\"text-align: right;\">\n",
       "      <th></th>\n",
       "      <th>users</th>\n",
       "    </tr>\n",
       "  </thead>\n",
       "  <tbody>\n",
       "    <tr>\n",
       "      <th>0</th>\n",
       "      <td>75</td>\n",
       "    </tr>\n",
       "  </tbody>\n",
       "</table>\n",
       "</div>"
      ],
      "text/plain": [
       "   users\n",
       "0     75"
      ]
     },
     "execution_count": 10,
     "metadata": {},
     "output_type": "execute_result"
    }
   ],
   "source": [
    "df_active_count = pd.read_sql_query(sql_active_count, e)\n",
    "df_active_count.head()"
   ]
  },
  {
   "cell_type": "code",
   "execution_count": 11,
   "id": "dc1165ec-54f4-46bb-9d83-9c042c5cd70a",
   "metadata": {},
   "outputs": [],
   "source": [
    "sql_first_song = \"\"\"\n",
    "WITH users AS (\n",
    "    SELECT\n",
    "        user_id\n",
    "        , min(listened_at) AS listened_at\n",
    "    FROM fact_listen\n",
    "    GROUP BY\n",
    "        user_id\n",
    ")\n",
    "SELECT\n",
    "    fl.listened_at\n",
    "    , fl.user_id\n",
    "    , dt.track_name\n",
    "FROM fact_listen AS fl\n",
    "LEFT JOIN users AS u ON (fl.user_id = u.user_id AND fl.listened_at = u.listened_at)\n",
    "LEFT JOIN dim_track AS dt ON (fl.track_id = dt.id)\n",
    "ORDER BY\n",
    "    fl.listened_at ASC;\n",
    "\"\"\""
   ]
  },
  {
   "cell_type": "code",
   "execution_count": 12,
   "id": "433ef512-d0da-4897-bc6e-7719e543d02a",
   "metadata": {},
   "outputs": [
    {
     "data": {
      "text/html": [
       "<div>\n",
       "<style scoped>\n",
       "    .dataframe tbody tr th:only-of-type {\n",
       "        vertical-align: middle;\n",
       "    }\n",
       "\n",
       "    .dataframe tbody tr th {\n",
       "        vertical-align: top;\n",
       "    }\n",
       "\n",
       "    .dataframe thead th {\n",
       "        text-align: right;\n",
       "    }\n",
       "</style>\n",
       "<table border=\"1\" class=\"dataframe\">\n",
       "  <thead>\n",
       "    <tr style=\"text-align: right;\">\n",
       "      <th></th>\n",
       "      <th>listened_at</th>\n",
       "      <th>user_id</th>\n",
       "      <th>track_name</th>\n",
       "    </tr>\n",
       "  </thead>\n",
       "  <tbody>\n",
       "    <tr>\n",
       "      <th>0</th>\n",
       "      <td>2019-01-01 00:00:48.000000</td>\n",
       "      <td>75</td>\n",
       "      <td>Shitstorm</td>\n",
       "    </tr>\n",
       "    <tr>\n",
       "      <th>1</th>\n",
       "      <td>2019-01-01 00:02:42.000000</td>\n",
       "      <td>32</td>\n",
       "      <td>Crystallized</td>\n",
       "    </tr>\n",
       "    <tr>\n",
       "      <th>2</th>\n",
       "      <td>2019-01-01 00:03:08.000000</td>\n",
       "      <td>51</td>\n",
       "      <td>Disco Yes</td>\n",
       "    </tr>\n",
       "    <tr>\n",
       "      <th>3</th>\n",
       "      <td>2019-01-01 00:03:08.000000</td>\n",
       "      <td>77</td>\n",
       "      <td>Про красивую жизнь</td>\n",
       "    </tr>\n",
       "    <tr>\n",
       "      <th>4</th>\n",
       "      <td>2019-01-01 00:04:37.000000</td>\n",
       "      <td>162</td>\n",
       "      <td>Never Gonna Make (Factory Dance Team mix)</td>\n",
       "    </tr>\n",
       "  </tbody>\n",
       "</table>\n",
       "</div>"
      ],
      "text/plain": [
       "                  listened_at  user_id  \\\n",
       "0  2019-01-01 00:00:48.000000       75   \n",
       "1  2019-01-01 00:02:42.000000       32   \n",
       "2  2019-01-01 00:03:08.000000       51   \n",
       "3  2019-01-01 00:03:08.000000       77   \n",
       "4  2019-01-01 00:04:37.000000      162   \n",
       "\n",
       "                                  track_name  \n",
       "0                                  Shitstorm  \n",
       "1                               Crystallized  \n",
       "2                                  Disco Yes  \n",
       "3                         Про красивую жизнь  \n",
       "4  Never Gonna Make (Factory Dance Team mix)  "
      ]
     },
     "execution_count": 12,
     "metadata": {},
     "output_type": "execute_result"
    }
   ],
   "source": [
    "df_first_song = pd.read_sql_query(sql_first_song, e)\n",
    "df_first_song.head()"
   ]
  },
  {
   "cell_type": "code",
   "execution_count": null,
   "id": "27ac9fd1-abde-454d-aa71-8b8cfd178d71",
   "metadata": {},
   "outputs": [],
   "source": []
  }
 ],
 "metadata": {
  "kernelspec": {
   "display_name": "music",
   "language": "python",
   "name": "music"
  },
  "language_info": {
   "codemirror_mode": {
    "name": "ipython",
    "version": 3
   },
   "file_extension": ".py",
   "mimetype": "text/x-python",
   "name": "python",
   "nbconvert_exporter": "python",
   "pygments_lexer": "ipython3",
   "version": "3.10.2"
  }
 },
 "nbformat": 4,
 "nbformat_minor": 5
}
